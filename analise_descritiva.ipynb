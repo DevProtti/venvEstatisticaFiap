{
 "cells": [
  {
   "cell_type": "code",
   "execution_count": 254,
   "metadata": {},
   "outputs": [],
   "source": [
    "import pandas as pd\n",
    "import seaborn as sns\n",
    "import matplotlib.pyplot as plt"
   ]
  },
  {
   "cell_type": "markdown",
   "metadata": {},
   "source": [
    "Importando dados"
   ]
  },
  {
   "cell_type": "code",
   "execution_count": 255,
   "metadata": {},
   "outputs": [
    {
     "data": {
      "text/html": [
       "<div>\n",
       "<style scoped>\n",
       "    .dataframe tbody tr th:only-of-type {\n",
       "        vertical-align: middle;\n",
       "    }\n",
       "\n",
       "    .dataframe tbody tr th {\n",
       "        vertical-align: top;\n",
       "    }\n",
       "\n",
       "    .dataframe thead th {\n",
       "        text-align: right;\n",
       "    }\n",
       "</style>\n",
       "<table border=\"1\" class=\"dataframe\">\n",
       "  <thead>\n",
       "    <tr style=\"text-align: right;\">\n",
       "      <th></th>\n",
       "      <th>Customer</th>\n",
       "      <th>Type of Customer</th>\n",
       "      <th>Items</th>\n",
       "      <th>Net Sales</th>\n",
       "      <th>Method of Payment</th>\n",
       "      <th>Gender</th>\n",
       "      <th>Marital Status</th>\n",
       "      <th>Age</th>\n",
       "    </tr>\n",
       "  </thead>\n",
       "  <tbody>\n",
       "    <tr>\n",
       "      <th>0</th>\n",
       "      <td>1</td>\n",
       "      <td>Regular</td>\n",
       "      <td>1</td>\n",
       "      <td>39.5</td>\n",
       "      <td>Discover</td>\n",
       "      <td>Male</td>\n",
       "      <td>Married</td>\n",
       "      <td>32</td>\n",
       "    </tr>\n",
       "    <tr>\n",
       "      <th>1</th>\n",
       "      <td>2</td>\n",
       "      <td>Promotional</td>\n",
       "      <td>1</td>\n",
       "      <td>102.4</td>\n",
       "      <td>Proprietary Card</td>\n",
       "      <td>Female</td>\n",
       "      <td>Married</td>\n",
       "      <td>36</td>\n",
       "    </tr>\n",
       "    <tr>\n",
       "      <th>2</th>\n",
       "      <td>3</td>\n",
       "      <td>Regular</td>\n",
       "      <td>1</td>\n",
       "      <td>22.5</td>\n",
       "      <td>Proprietary Card</td>\n",
       "      <td>Female</td>\n",
       "      <td>Married</td>\n",
       "      <td>32</td>\n",
       "    </tr>\n",
       "    <tr>\n",
       "      <th>3</th>\n",
       "      <td>4</td>\n",
       "      <td>Promotional</td>\n",
       "      <td>5</td>\n",
       "      <td>100.4</td>\n",
       "      <td>Proprietary Card</td>\n",
       "      <td>Female</td>\n",
       "      <td>Married</td>\n",
       "      <td>28</td>\n",
       "    </tr>\n",
       "    <tr>\n",
       "      <th>4</th>\n",
       "      <td>5</td>\n",
       "      <td>Regular</td>\n",
       "      <td>2</td>\n",
       "      <td>54.0</td>\n",
       "      <td>MasterCard</td>\n",
       "      <td>Female</td>\n",
       "      <td>Married</td>\n",
       "      <td>34</td>\n",
       "    </tr>\n",
       "  </tbody>\n",
       "</table>\n",
       "</div>"
      ],
      "text/plain": [
       "   Customer Type of Customer  Items  Net Sales Method of Payment  Gender  \\\n",
       "0         1          Regular      1       39.5          Discover    Male   \n",
       "1         2      Promotional      1      102.4  Proprietary Card  Female   \n",
       "2         3          Regular      1       22.5  Proprietary Card  Female   \n",
       "3         4      Promotional      5      100.4  Proprietary Card  Female   \n",
       "4         5          Regular      2       54.0        MasterCard  Female   \n",
       "\n",
       "  Marital Status  Age  \n",
       "0        Married   32  \n",
       "1        Married   36  \n",
       "2        Married   32  \n",
       "3        Married   28  \n",
       "4        Married   34  "
      ]
     },
     "execution_count": 255,
     "metadata": {},
     "output_type": "execute_result"
    }
   ],
   "source": [
    "df_dados = pd.read_csv('dados_clothing.csv', sep=';', decimal=',')\n",
    "df_dados.head()"
   ]
  },
  {
   "cell_type": "markdown",
   "metadata": {},
   "source": [
    "Verificando o range de idade"
   ]
  },
  {
   "cell_type": "code",
   "execution_count": 256,
   "metadata": {},
   "outputs": [
    {
     "name": "stdout",
     "output_type": "stream",
     "text": [
      "20\n",
      "78\n"
     ]
    }
   ],
   "source": [
    "print(df_dados[\"Age\"].min())\n",
    "print(df_dados[\"Age\"].max())"
   ]
  },
  {
   "cell_type": "markdown",
   "metadata": {},
   "source": [
    "Criando as classes que serão utlizadas baseadas nas idades"
   ]
  },
  {
   "cell_type": "code",
   "execution_count": 257,
   "metadata": {},
   "outputs": [],
   "source": [
    "classes = [20, 30, 40, 50, 60, 70, 80]"
   ]
  },
  {
   "cell_type": "markdown",
   "metadata": {},
   "source": [
    "Incluindo colunas 'Faixa idade' para verificar a qual classe de idade o/a cliente pertence e <br>\n",
    "uma coluna de 'Ticket medio' dividindo a coluna 'Net Sales' pela coluna 'Items'"
   ]
  },
  {
   "cell_type": "code",
   "execution_count": 258,
   "metadata": {},
   "outputs": [
    {
     "data": {
      "text/html": [
       "<div>\n",
       "<style scoped>\n",
       "    .dataframe tbody tr th:only-of-type {\n",
       "        vertical-align: middle;\n",
       "    }\n",
       "\n",
       "    .dataframe tbody tr th {\n",
       "        vertical-align: top;\n",
       "    }\n",
       "\n",
       "    .dataframe thead th {\n",
       "        text-align: right;\n",
       "    }\n",
       "</style>\n",
       "<table border=\"1\" class=\"dataframe\">\n",
       "  <thead>\n",
       "    <tr style=\"text-align: right;\">\n",
       "      <th></th>\n",
       "      <th>Customer</th>\n",
       "      <th>Type of Customer</th>\n",
       "      <th>Items</th>\n",
       "      <th>Net Sales</th>\n",
       "      <th>Method of Payment</th>\n",
       "      <th>Gender</th>\n",
       "      <th>Marital Status</th>\n",
       "      <th>Age</th>\n",
       "      <th>Faixa idade</th>\n",
       "      <th>Ticket medio</th>\n",
       "    </tr>\n",
       "  </thead>\n",
       "  <tbody>\n",
       "    <tr>\n",
       "      <th>0</th>\n",
       "      <td>1</td>\n",
       "      <td>Regular</td>\n",
       "      <td>1</td>\n",
       "      <td>39.5</td>\n",
       "      <td>Discover</td>\n",
       "      <td>Male</td>\n",
       "      <td>Married</td>\n",
       "      <td>32</td>\n",
       "      <td>(30.0, 40.0]</td>\n",
       "      <td>39.50</td>\n",
       "    </tr>\n",
       "    <tr>\n",
       "      <th>1</th>\n",
       "      <td>2</td>\n",
       "      <td>Promotional</td>\n",
       "      <td>1</td>\n",
       "      <td>102.4</td>\n",
       "      <td>Proprietary Card</td>\n",
       "      <td>Female</td>\n",
       "      <td>Married</td>\n",
       "      <td>36</td>\n",
       "      <td>(30.0, 40.0]</td>\n",
       "      <td>102.40</td>\n",
       "    </tr>\n",
       "    <tr>\n",
       "      <th>2</th>\n",
       "      <td>3</td>\n",
       "      <td>Regular</td>\n",
       "      <td>1</td>\n",
       "      <td>22.5</td>\n",
       "      <td>Proprietary Card</td>\n",
       "      <td>Female</td>\n",
       "      <td>Married</td>\n",
       "      <td>32</td>\n",
       "      <td>(30.0, 40.0]</td>\n",
       "      <td>22.50</td>\n",
       "    </tr>\n",
       "    <tr>\n",
       "      <th>3</th>\n",
       "      <td>4</td>\n",
       "      <td>Promotional</td>\n",
       "      <td>5</td>\n",
       "      <td>100.4</td>\n",
       "      <td>Proprietary Card</td>\n",
       "      <td>Female</td>\n",
       "      <td>Married</td>\n",
       "      <td>28</td>\n",
       "      <td>(19.999, 30.0]</td>\n",
       "      <td>20.08</td>\n",
       "    </tr>\n",
       "    <tr>\n",
       "      <th>4</th>\n",
       "      <td>5</td>\n",
       "      <td>Regular</td>\n",
       "      <td>2</td>\n",
       "      <td>54.0</td>\n",
       "      <td>MasterCard</td>\n",
       "      <td>Female</td>\n",
       "      <td>Married</td>\n",
       "      <td>34</td>\n",
       "      <td>(30.0, 40.0]</td>\n",
       "      <td>27.00</td>\n",
       "    </tr>\n",
       "  </tbody>\n",
       "</table>\n",
       "</div>"
      ],
      "text/plain": [
       "   Customer Type of Customer  Items  Net Sales Method of Payment  Gender  \\\n",
       "0         1          Regular      1       39.5          Discover    Male   \n",
       "1         2      Promotional      1      102.4  Proprietary Card  Female   \n",
       "2         3          Regular      1       22.5  Proprietary Card  Female   \n",
       "3         4      Promotional      5      100.4  Proprietary Card  Female   \n",
       "4         5          Regular      2       54.0        MasterCard  Female   \n",
       "\n",
       "  Marital Status  Age     Faixa idade  Ticket medio  \n",
       "0        Married   32    (30.0, 40.0]         39.50  \n",
       "1        Married   36    (30.0, 40.0]        102.40  \n",
       "2        Married   32    (30.0, 40.0]         22.50  \n",
       "3        Married   28  (19.999, 30.0]         20.08  \n",
       "4        Married   34    (30.0, 40.0]         27.00  "
      ]
     },
     "execution_count": 258,
     "metadata": {},
     "output_type": "execute_result"
    }
   ],
   "source": [
    "df_dados['Faixa idade'] = pd.cut(\n",
    "    x=df_dados['Age'],\n",
    "    bins=classes,\n",
    "    include_lowest=True\n",
    ")\n",
    "df_dados['Ticket medio'] = df_dados['Net Sales'] / df_dados['Items']\n",
    "df_dados.head()"
   ]
  },
  {
   "cell_type": "markdown",
   "metadata": {},
   "source": [
    "Fazendo a média da coluna 'Ticket medio' e agrupando por faixa de idade "
   ]
  },
  {
   "cell_type": "code",
   "execution_count": 259,
   "metadata": {},
   "outputs": [
    {
     "name": "stderr",
     "output_type": "stream",
     "text": [
      "C:\\Users\\gabriel.protti\\AppData\\Local\\Temp\\ipykernel_3576\\2050964494.py:1: FutureWarning: The default of observed=False is deprecated and will be changed to True in a future version of pandas. Pass observed=False to retain current behavior or observed=True to adopt the future default and silence this warning.\n",
      "  media_por_faixa = round(df_dados.groupby('Faixa idade')['Ticket medio'].mean(), 2)\n"
     ]
    }
   ],
   "source": [
    "media_por_faixa = round(df_dados.groupby('Faixa idade')['Ticket medio'].mean(), 2)\n",
    "\n",
    "labels = ['20 a 29 anos', '30 a 39 anos', '40 a 49 anos', '50 a 59 anos', '60 a 69 anos', '70 a 80 anos']\n",
    "assert len(labels) == len(media_por_faixa), 'Quantidade de legendas é diferente da quantidade de classe'"
   ]
  },
  {
   "cell_type": "code",
   "execution_count": 260,
   "metadata": {},
   "outputs": [
    {
     "data": {
      "text/html": [
       "<div>\n",
       "<style scoped>\n",
       "    .dataframe tbody tr th:only-of-type {\n",
       "        vertical-align: middle;\n",
       "    }\n",
       "\n",
       "    .dataframe tbody tr th {\n",
       "        vertical-align: top;\n",
       "    }\n",
       "\n",
       "    .dataframe thead th {\n",
       "        text-align: right;\n",
       "    }\n",
       "</style>\n",
       "<table border=\"1\" class=\"dataframe\">\n",
       "  <thead>\n",
       "    <tr style=\"text-align: right;\">\n",
       "      <th></th>\n",
       "      <th>Faixa de idade</th>\n",
       "      <th>Ticket Medio</th>\n",
       "    </tr>\n",
       "    <tr>\n",
       "      <th>Faixa idade</th>\n",
       "      <th></th>\n",
       "      <th></th>\n",
       "    </tr>\n",
       "  </thead>\n",
       "  <tbody>\n",
       "    <tr>\n",
       "      <th>(19.999, 30.0]</th>\n",
       "      <td>20 a 29 anos</td>\n",
       "      <td>30.24</td>\n",
       "    </tr>\n",
       "    <tr>\n",
       "      <th>(30.0, 40.0]</th>\n",
       "      <td>30 a 39 anos</td>\n",
       "      <td>29.15</td>\n",
       "    </tr>\n",
       "    <tr>\n",
       "      <th>(40.0, 50.0]</th>\n",
       "      <td>40 a 49 anos</td>\n",
       "      <td>29.25</td>\n",
       "    </tr>\n",
       "    <tr>\n",
       "      <th>(50.0, 60.0]</th>\n",
       "      <td>50 a 59 anos</td>\n",
       "      <td>29.94</td>\n",
       "    </tr>\n",
       "    <tr>\n",
       "      <th>(60.0, 70.0]</th>\n",
       "      <td>60 a 69 anos</td>\n",
       "      <td>27.06</td>\n",
       "    </tr>\n",
       "    <tr>\n",
       "      <th>(70.0, 80.0]</th>\n",
       "      <td>70 a 80 anos</td>\n",
       "      <td>37.52</td>\n",
       "    </tr>\n",
       "  </tbody>\n",
       "</table>\n",
       "</div>"
      ],
      "text/plain": [
       "               Faixa de idade  Ticket Medio\n",
       "Faixa idade                                \n",
       "(19.999, 30.0]   20 a 29 anos         30.24\n",
       "(30.0, 40.0]     30 a 39 anos         29.15\n",
       "(40.0, 50.0]     40 a 49 anos         29.25\n",
       "(50.0, 60.0]     50 a 59 anos         29.94\n",
       "(60.0, 70.0]     60 a 69 anos         27.06\n",
       "(70.0, 80.0]     70 a 80 anos         37.52"
      ]
     },
     "execution_count": 260,
     "metadata": {},
     "output_type": "execute_result"
    }
   ],
   "source": [
    "df_dados_de_media_por_faixa_de_idade = pd.DataFrame({\"Faixa de idade\":labels, \"Ticket Medio\":media_por_faixa})\n",
    "df_dados_de_media_por_faixa_de_idade"
   ]
  },
  {
   "cell_type": "markdown",
   "metadata": {},
   "source": [
    "Plotando as informações em um gráfico de barra"
   ]
  },
  {
   "cell_type": "code",
   "execution_count": 261,
   "metadata": {},
   "outputs": [
    {
     "name": "stderr",
     "output_type": "stream",
     "text": [
      "c:\\Gabriel\\Workspace\\Projetos_Python\\venvEstatisticaFiap\\Lib\\site-packages\\seaborn\\_oldcore.py:1498: FutureWarning: is_categorical_dtype is deprecated and will be removed in a future version. Use isinstance(dtype, CategoricalDtype) instead\n",
      "  if pd.api.types.is_categorical_dtype(vector):\n",
      "c:\\Gabriel\\Workspace\\Projetos_Python\\venvEstatisticaFiap\\Lib\\site-packages\\seaborn\\_oldcore.py:1498: FutureWarning: is_categorical_dtype is deprecated and will be removed in a future version. Use isinstance(dtype, CategoricalDtype) instead\n",
      "  if pd.api.types.is_categorical_dtype(vector):\n",
      "c:\\Gabriel\\Workspace\\Projetos_Python\\venvEstatisticaFiap\\Lib\\site-packages\\seaborn\\_oldcore.py:1498: FutureWarning: is_categorical_dtype is deprecated and will be removed in a future version. Use isinstance(dtype, CategoricalDtype) instead\n",
      "  if pd.api.types.is_categorical_dtype(vector):\n"
     ]
    },
    {
     "data": {
      "image/png": "[encoded data removed]",
      "text/plain": [
       "<Figure size 1000x600 with 1 Axes>"
      ]
     },
     "metadata": {},
     "output_type": "display_data"
    }
   ],
   "source": [
    "plt.figure(figsize=(10, 6))\n",
    "sns.set_theme(\n",
    "    {'font.size': 10.0,\n",
    "        'axes.labelsize': 14,\n",
    "        'axes.titlesize': 15,\n",
    "        'xtick.labelsize': 'medium',\n",
    "        'ytick.labelsize': 'medium',\n",
    "        'axes.linewidth': 5,\n",
    "        'grid.linewidth': 0.5,\n",
    "        'xtick.major.width': 0.8,\n",
    "        'ytick.major.width': 0.8,\n",
    "        'xtick.minor.width': 0.6,\n",
    "        'ytick.minor.width': 0.6,\n",
    "        'xtick.major.size': 7,\n",
    "        'ytick.major.size': 5,\n",
    "    },\n",
    "    style={'xtick.direction': 'in',}\n",
    ")\n",
    "sns.barplot(\n",
    "    data=df_dados_de_media_por_faixa_de_idade,\n",
    "    x='Faixa de idade',\n",
    "    y='Ticket Medio',\n",
    "    palette=\"dark:#5A9_r\",    \n",
    ")\n",
    "plt.yticks(range(0, int(df_dados_de_media_por_faixa_de_idade['Ticket Medio'].max() + 5), 2))\n",
    "plt.xlabel(None)\n",
    "plt.ylabel(None)\n",
    "plt.title('Ticket médio X Faixa de idade')\n",
    "plt.show()"
   ]
  },
  {
   "cell_type": "markdown",
   "metadata": {},
   "source": [
    "Verificando a existência de outliers"
   ]
  },
  {
   "cell_type": "code",
   "execution_count": 262,
   "metadata": {},
   "outputs": [
    {
     "data": {
      "text/plain": [
       "Faixa idade\n",
       "(40.0, 50.0]      32\n",
       "(30.0, 40.0]      26\n",
       "(19.999, 30.0]    18\n",
       "(50.0, 60.0]      15\n",
       "(60.0, 70.0]       6\n",
       "(70.0, 80.0]       3\n",
       "Name: count, dtype: int64"
      ]
     },
     "execution_count": 262,
     "metadata": {},
     "output_type": "execute_result"
    }
   ],
   "source": [
    "qtd_pessoas_por_faixa = df_dados['Faixa idade'].value_counts()\n",
    "qtd_pessoas_por_faixa"
   ]
  },
  {
   "cell_type": "markdown",
   "metadata": {},
   "source": [
    "Inserindo dados no df_dados_de_media_por_faixa_de_idade"
   ]
  },
  {
   "cell_type": "code",
   "execution_count": 263,
   "metadata": {},
   "outputs": [
    {
     "data": {
      "text/html": [
       "<div>\n",
       "<style scoped>\n",
       "    .dataframe tbody tr th:only-of-type {\n",
       "        vertical-align: middle;\n",
       "    }\n",
       "\n",
       "    .dataframe tbody tr th {\n",
       "        vertical-align: top;\n",
       "    }\n",
       "\n",
       "    .dataframe thead th {\n",
       "        text-align: right;\n",
       "    }\n",
       "</style>\n",
       "<table border=\"1\" class=\"dataframe\">\n",
       "  <thead>\n",
       "    <tr style=\"text-align: right;\">\n",
       "      <th></th>\n",
       "      <th>Faixa de idade</th>\n",
       "      <th>Ticket Medio</th>\n",
       "      <th>Qtd pessoas por faixa</th>\n",
       "    </tr>\n",
       "    <tr>\n",
       "      <th>Faixa idade</th>\n",
       "      <th></th>\n",
       "      <th></th>\n",
       "      <th></th>\n",
       "    </tr>\n",
       "  </thead>\n",
       "  <tbody>\n",
       "    <tr>\n",
       "      <th>(19.999, 30.0]</th>\n",
       "      <td>20 a 29 anos</td>\n",
       "      <td>30.24</td>\n",
       "      <td>18</td>\n",
       "    </tr>\n",
       "    <tr>\n",
       "      <th>(30.0, 40.0]</th>\n",
       "      <td>30 a 39 anos</td>\n",
       "      <td>29.15</td>\n",
       "      <td>26</td>\n",
       "    </tr>\n",
       "    <tr>\n",
       "      <th>(40.0, 50.0]</th>\n",
       "      <td>40 a 49 anos</td>\n",
       "      <td>29.25</td>\n",
       "      <td>32</td>\n",
       "    </tr>\n",
       "    <tr>\n",
       "      <th>(50.0, 60.0]</th>\n",
       "      <td>50 a 59 anos</td>\n",
       "      <td>29.94</td>\n",
       "      <td>15</td>\n",
       "    </tr>\n",
       "    <tr>\n",
       "      <th>(60.0, 70.0]</th>\n",
       "      <td>60 a 69 anos</td>\n",
       "      <td>27.06</td>\n",
       "      <td>6</td>\n",
       "    </tr>\n",
       "    <tr>\n",
       "      <th>(70.0, 80.0]</th>\n",
       "      <td>70 a 80 anos</td>\n",
       "      <td>37.52</td>\n",
       "      <td>3</td>\n",
       "    </tr>\n",
       "  </tbody>\n",
       "</table>\n",
       "</div>"
      ],
      "text/plain": [
       "               Faixa de idade  Ticket Medio  Qtd pessoas por faixa\n",
       "Faixa idade                                                       \n",
       "(19.999, 30.0]   20 a 29 anos         30.24                     18\n",
       "(30.0, 40.0]     30 a 39 anos         29.15                     26\n",
       "(40.0, 50.0]     40 a 49 anos         29.25                     32\n",
       "(50.0, 60.0]     50 a 59 anos         29.94                     15\n",
       "(60.0, 70.0]     60 a 69 anos         27.06                      6\n",
       "(70.0, 80.0]     70 a 80 anos         37.52                      3"
      ]
     },
     "execution_count": 263,
     "metadata": {},
     "output_type": "execute_result"
    }
   ],
   "source": [
    "df_dados_de_media_por_faixa_de_idade['Qtd pessoas por faixa'] = qtd_pessoas_por_faixa\n",
    "df_dados_de_media_por_faixa_de_idade"
   ]
  },
  {
   "cell_type": "markdown",
   "metadata": {},
   "source": [
    "Eliminando os outliers (faixas de 60 à 80 anos)"
   ]
  },
  {
   "cell_type": "code",
   "execution_count": 264,
   "metadata": {},
   "outputs": [
    {
     "data": {
      "text/html": [
       "<div>\n",
       "<style scoped>\n",
       "    .dataframe tbody tr th:only-of-type {\n",
       "        vertical-align: middle;\n",
       "    }\n",
       "\n",
       "    .dataframe tbody tr th {\n",
       "        vertical-align: top;\n",
       "    }\n",
       "\n",
       "    .dataframe thead th {\n",
       "        text-align: right;\n",
       "    }\n",
       "</style>\n",
       "<table border=\"1\" class=\"dataframe\">\n",
       "  <thead>\n",
       "    <tr style=\"text-align: right;\">\n",
       "      <th></th>\n",
       "      <th>Faixa de idade</th>\n",
       "      <th>Ticket Medio</th>\n",
       "      <th>Qtd pessoas por faixa</th>\n",
       "    </tr>\n",
       "    <tr>\n",
       "      <th>Faixa idade</th>\n",
       "      <th></th>\n",
       "      <th></th>\n",
       "      <th></th>\n",
       "    </tr>\n",
       "  </thead>\n",
       "  <tbody>\n",
       "    <tr>\n",
       "      <th>(19.999, 30.0]</th>\n",
       "      <td>20 a 29 anos</td>\n",
       "      <td>30.24</td>\n",
       "      <td>18</td>\n",
       "    </tr>\n",
       "    <tr>\n",
       "      <th>(30.0, 40.0]</th>\n",
       "      <td>30 a 39 anos</td>\n",
       "      <td>29.15</td>\n",
       "      <td>26</td>\n",
       "    </tr>\n",
       "    <tr>\n",
       "      <th>(40.0, 50.0]</th>\n",
       "      <td>40 a 49 anos</td>\n",
       "      <td>29.25</td>\n",
       "      <td>32</td>\n",
       "    </tr>\n",
       "    <tr>\n",
       "      <th>(50.0, 60.0]</th>\n",
       "      <td>50 a 59 anos</td>\n",
       "      <td>29.94</td>\n",
       "      <td>15</td>\n",
       "    </tr>\n",
       "  </tbody>\n",
       "</table>\n",
       "</div>"
      ],
      "text/plain": [
       "               Faixa de idade  Ticket Medio  Qtd pessoas por faixa\n",
       "Faixa idade                                                       \n",
       "(19.999, 30.0]   20 a 29 anos         30.24                     18\n",
       "(30.0, 40.0]     30 a 39 anos         29.15                     26\n",
       "(40.0, 50.0]     40 a 49 anos         29.25                     32\n",
       "(50.0, 60.0]     50 a 59 anos         29.94                     15"
      ]
     },
     "execution_count": 264,
     "metadata": {},
     "output_type": "execute_result"
    }
   ],
   "source": [
    "df_dados_de_media_por_faixa_de_idade.query('`Faixa de idade` != (\"60 a 69 anos\", \"70 a 80 anos\")', inplace=True)\n",
    "df_dados_de_media_por_faixa_de_idade"
   ]
  },
  {
   "cell_type": "markdown",
   "metadata": {},
   "source": [
    "Plotando as novas informações sem os outliers"
   ]
  },
  {
   "cell_type": "code",
   "execution_count": 265,
   "metadata": {},
   "outputs": [
    {
     "name": "stderr",
     "output_type": "stream",
     "text": [
      "c:\\Gabriel\\Workspace\\Projetos_Python\\venvEstatisticaFiap\\Lib\\site-packages\\seaborn\\_oldcore.py:1498: FutureWarning: is_categorical_dtype is deprecated and will be removed in a future version. Use isinstance(dtype, CategoricalDtype) instead\n",
      "  if pd.api.types.is_categorical_dtype(vector):\n",
      "c:\\Gabriel\\Workspace\\Projetos_Python\\venvEstatisticaFiap\\Lib\\site-packages\\seaborn\\_oldcore.py:1498: FutureWarning: is_categorical_dtype is deprecated and will be removed in a future version. Use isinstance(dtype, CategoricalDtype) instead\n",
      "  if pd.api.types.is_categorical_dtype(vector):\n",
      "c:\\Gabriel\\Workspace\\Projetos_Python\\venvEstatisticaFiap\\Lib\\site-packages\\seaborn\\_oldcore.py:1498: FutureWarning: is_categorical_dtype is deprecated and will be removed in a future version. Use isinstance(dtype, CategoricalDtype) instead\n",
      "  if pd.api.types.is_categorical_dtype(vector):\n"
     ]
    },
    {
     "data": {
      "image/png": "[encoded data removed]",
      "text/plain": [
       "<Figure size 640x480 with 1 Axes>"
      ]
     },
     "metadata": {},
     "output_type": "display_data"
    }
   ],
   "source": [
    "sns.set_theme(\n",
    "    {'axes.titlesize': 15},\n",
    "    style={'xtick.direction': 'in',}\n",
    ")\n",
    "sns.barplot(\n",
    "    data=df_dados_de_media_por_faixa_de_idade,\n",
    "    x='Faixa de idade',\n",
    "    y='Ticket Medio',\n",
    "    palette=\"dark:#5A9_r\",    \n",
    ")\n",
    "plt.yticks(range(0, int(df_dados_de_media_por_faixa_de_idade['Ticket Medio'].max() + 5), 2))\n",
    "plt.xlabel(None)\n",
    "plt.ylabel(None)\n",
    "plt.title('Ticket médio X Faixa de idade')\n",
    "plt.show()"
   ]
  },
  {
   "cell_type": "markdown",
   "metadata": {},
   "source": [
    "\n",
    "A partir da análise descritiva da base de dados da loja de artigos femininos Pelican Store é possivel\n",
    "observar que o ticket médio por artigo na faixa dos 20 aos 59 anos está dentro de um range de 29.15 \n",
    "dólares até 30.24 dólares aproximadamente, sendo assim é possível que se o preço de seus artigos se \n",
    "distanciem muito desse range de preço, a quantidade de vendas possam vir a cair. Seria interessante \n",
    "também focar suas campanhas de marketing para venda de seus produtos para as mulheres de 20 a 59 anos."
   ]
  },
  {
   "cell_type": "markdown",
   "metadata": {},
   "source": [
    "<h2>Analise de pagamento com cartão próprio x cartão externo, por tipo de cliente<h2>"
   ]
  },
  {
   "cell_type": "code",
   "execution_count": 267,
   "metadata": {},
   "outputs": [
    {
     "data": {
      "text/html": [
       "<div>\n",
       "<style scoped>\n",
       "    .dataframe tbody tr th:only-of-type {\n",
       "        vertical-align: middle;\n",
       "    }\n",
       "\n",
       "    .dataframe tbody tr th {\n",
       "        vertical-align: top;\n",
       "    }\n",
       "\n",
       "    .dataframe thead th {\n",
       "        text-align: right;\n",
       "    }\n",
       "</style>\n",
       "<table border=\"1\" class=\"dataframe\">\n",
       "  <thead>\n",
       "    <tr style=\"text-align: right;\">\n",
       "      <th></th>\n",
       "      <th>Customer</th>\n",
       "      <th>Type of Customer</th>\n",
       "      <th>Items</th>\n",
       "      <th>Net Sales</th>\n",
       "      <th>Method of Payment</th>\n",
       "      <th>Gender</th>\n",
       "      <th>Marital Status</th>\n",
       "      <th>Age</th>\n",
       "      <th>Faixa idade</th>\n",
       "      <th>Ticket medio</th>\n",
       "    </tr>\n",
       "  </thead>\n",
       "  <tbody>\n",
       "    <tr>\n",
       "      <th>0</th>\n",
       "      <td>1</td>\n",
       "      <td>Regular</td>\n",
       "      <td>1</td>\n",
       "      <td>39.50</td>\n",
       "      <td>Discover</td>\n",
       "      <td>Male</td>\n",
       "      <td>Married</td>\n",
       "      <td>32</td>\n",
       "      <td>(30.0, 40.0]</td>\n",
       "      <td>39.50</td>\n",
       "    </tr>\n",
       "    <tr>\n",
       "      <th>1</th>\n",
       "      <td>2</td>\n",
       "      <td>Promotional</td>\n",
       "      <td>1</td>\n",
       "      <td>102.40</td>\n",
       "      <td>Proprietary Card</td>\n",
       "      <td>Female</td>\n",
       "      <td>Married</td>\n",
       "      <td>36</td>\n",
       "      <td>(30.0, 40.0]</td>\n",
       "      <td>102.40</td>\n",
       "    </tr>\n",
       "    <tr>\n",
       "      <th>2</th>\n",
       "      <td>3</td>\n",
       "      <td>Regular</td>\n",
       "      <td>1</td>\n",
       "      <td>22.50</td>\n",
       "      <td>Proprietary Card</td>\n",
       "      <td>Female</td>\n",
       "      <td>Married</td>\n",
       "      <td>32</td>\n",
       "      <td>(30.0, 40.0]</td>\n",
       "      <td>22.50</td>\n",
       "    </tr>\n",
       "    <tr>\n",
       "      <th>3</th>\n",
       "      <td>4</td>\n",
       "      <td>Promotional</td>\n",
       "      <td>5</td>\n",
       "      <td>100.40</td>\n",
       "      <td>Proprietary Card</td>\n",
       "      <td>Female</td>\n",
       "      <td>Married</td>\n",
       "      <td>28</td>\n",
       "      <td>(19.999, 30.0]</td>\n",
       "      <td>20.08</td>\n",
       "    </tr>\n",
       "    <tr>\n",
       "      <th>4</th>\n",
       "      <td>5</td>\n",
       "      <td>Regular</td>\n",
       "      <td>2</td>\n",
       "      <td>54.00</td>\n",
       "      <td>MasterCard</td>\n",
       "      <td>Female</td>\n",
       "      <td>Married</td>\n",
       "      <td>34</td>\n",
       "      <td>(30.0, 40.0]</td>\n",
       "      <td>27.00</td>\n",
       "    </tr>\n",
       "    <tr>\n",
       "      <th>5</th>\n",
       "      <td>6</td>\n",
       "      <td>Regular</td>\n",
       "      <td>1</td>\n",
       "      <td>44.50</td>\n",
       "      <td>MasterCard</td>\n",
       "      <td>Female</td>\n",
       "      <td>Married</td>\n",
       "      <td>44</td>\n",
       "      <td>(40.0, 50.0]</td>\n",
       "      <td>44.50</td>\n",
       "    </tr>\n",
       "    <tr>\n",
       "      <th>6</th>\n",
       "      <td>7</td>\n",
       "      <td>Promotional</td>\n",
       "      <td>2</td>\n",
       "      <td>78.00</td>\n",
       "      <td>Proprietary Card</td>\n",
       "      <td>Female</td>\n",
       "      <td>Married</td>\n",
       "      <td>30</td>\n",
       "      <td>(19.999, 30.0]</td>\n",
       "      <td>39.00</td>\n",
       "    </tr>\n",
       "    <tr>\n",
       "      <th>7</th>\n",
       "      <td>8</td>\n",
       "      <td>Regular</td>\n",
       "      <td>1</td>\n",
       "      <td>22.50</td>\n",
       "      <td>Visa</td>\n",
       "      <td>Female</td>\n",
       "      <td>Married</td>\n",
       "      <td>40</td>\n",
       "      <td>(30.0, 40.0]</td>\n",
       "      <td>22.50</td>\n",
       "    </tr>\n",
       "    <tr>\n",
       "      <th>8</th>\n",
       "      <td>9</td>\n",
       "      <td>Promotional</td>\n",
       "      <td>2</td>\n",
       "      <td>56.52</td>\n",
       "      <td>Proprietary Card</td>\n",
       "      <td>Female</td>\n",
       "      <td>Married</td>\n",
       "      <td>46</td>\n",
       "      <td>(40.0, 50.0]</td>\n",
       "      <td>28.26</td>\n",
       "    </tr>\n",
       "    <tr>\n",
       "      <th>9</th>\n",
       "      <td>10</td>\n",
       "      <td>Regular</td>\n",
       "      <td>1</td>\n",
       "      <td>44.50</td>\n",
       "      <td>Proprietary Card</td>\n",
       "      <td>Female</td>\n",
       "      <td>Married</td>\n",
       "      <td>36</td>\n",
       "      <td>(30.0, 40.0]</td>\n",
       "      <td>44.50</td>\n",
       "    </tr>\n",
       "  </tbody>\n",
       "</table>\n",
       "</div>"
      ],
      "text/plain": [
       "   Customer Type of Customer  Items  Net Sales Method of Payment  Gender  \\\n",
       "0         1          Regular      1      39.50          Discover    Male   \n",
       "1         2      Promotional      1     102.40  Proprietary Card  Female   \n",
       "2         3          Regular      1      22.50  Proprietary Card  Female   \n",
       "3         4      Promotional      5     100.40  Proprietary Card  Female   \n",
       "4         5          Regular      2      54.00        MasterCard  Female   \n",
       "5         6          Regular      1      44.50        MasterCard  Female   \n",
       "6         7      Promotional      2      78.00  Proprietary Card  Female   \n",
       "7         8          Regular      1      22.50              Visa  Female   \n",
       "8         9      Promotional      2      56.52  Proprietary Card  Female   \n",
       "9        10          Regular      1      44.50  Proprietary Card  Female   \n",
       "\n",
       "  Marital Status  Age     Faixa idade  Ticket medio  \n",
       "0        Married   32    (30.0, 40.0]         39.50  \n",
       "1        Married   36    (30.0, 40.0]        102.40  \n",
       "2        Married   32    (30.0, 40.0]         22.50  \n",
       "3        Married   28  (19.999, 30.0]         20.08  \n",
       "4        Married   34    (30.0, 40.0]         27.00  \n",
       "5        Married   44    (40.0, 50.0]         44.50  \n",
       "6        Married   30  (19.999, 30.0]         39.00  \n",
       "7        Married   40    (30.0, 40.0]         22.50  \n",
       "8        Married   46    (40.0, 50.0]         28.26  \n",
       "9        Married   36    (30.0, 40.0]         44.50  "
      ]
     },
     "execution_count": 267,
     "metadata": {},
     "output_type": "execute_result"
    }
   ],
   "source": [
    "df_dados.head(10)"
   ]
  },
  {
   "cell_type": "code",
   "execution_count": 277,
   "metadata": {},
   "outputs": [
    {
     "data": {
      "text/html": [
       "<div>\n",
       "<style scoped>\n",
       "    .dataframe tbody tr th:only-of-type {\n",
       "        vertical-align: middle;\n",
       "    }\n",
       "\n",
       "    .dataframe tbody tr th {\n",
       "        vertical-align: top;\n",
       "    }\n",
       "\n",
       "    .dataframe thead th {\n",
       "        text-align: right;\n",
       "    }\n",
       "</style>\n",
       "<table border=\"1\" class=\"dataframe\">\n",
       "  <thead>\n",
       "    <tr style=\"text-align: right;\">\n",
       "      <th></th>\n",
       "      <th></th>\n",
       "      <th>count</th>\n",
       "    </tr>\n",
       "    <tr>\n",
       "      <th>Type of Customer</th>\n",
       "      <th>Method of Payment</th>\n",
       "      <th></th>\n",
       "    </tr>\n",
       "  </thead>\n",
       "  <tbody>\n",
       "    <tr>\n",
       "      <th rowspan=\"4\" valign=\"top\">Promotional</th>\n",
       "      <th>Proprietary Card</th>\n",
       "      <td>57</td>\n",
       "    </tr>\n",
       "    <tr>\n",
       "      <th>MasterCard</th>\n",
       "      <td>7</td>\n",
       "    </tr>\n",
       "    <tr>\n",
       "      <th>Visa</th>\n",
       "      <td>5</td>\n",
       "    </tr>\n",
       "    <tr>\n",
       "      <th>American Express</th>\n",
       "      <td>1</td>\n",
       "    </tr>\n",
       "    <tr>\n",
       "      <th rowspan=\"5\" valign=\"top\">Regular</th>\n",
       "      <th>Proprietary Card</th>\n",
       "      <td>13</td>\n",
       "    </tr>\n",
       "    <tr>\n",
       "      <th>MasterCard</th>\n",
       "      <td>7</td>\n",
       "    </tr>\n",
       "    <tr>\n",
       "      <th>Visa</th>\n",
       "      <td>5</td>\n",
       "    </tr>\n",
       "    <tr>\n",
       "      <th>Discover</th>\n",
       "      <td>4</td>\n",
       "    </tr>\n",
       "    <tr>\n",
       "      <th>American Express</th>\n",
       "      <td>1</td>\n",
       "    </tr>\n",
       "  </tbody>\n",
       "</table>\n",
       "</div>"
      ],
      "text/plain": [
       "                                    count\n",
       "Type of Customer Method of Payment       \n",
       "Promotional      Proprietary Card      57\n",
       "                 MasterCard             7\n",
       "                 Visa                   5\n",
       "                 American Express       1\n",
       "Regular          Proprietary Card      13\n",
       "                 MasterCard             7\n",
       "                 Visa                   5\n",
       "                 Discover               4\n",
       "                 American Express       1"
      ]
     },
     "execution_count": 277,
     "metadata": {},
     "output_type": "execute_result"
    }
   ],
   "source": [
    "tipo_cartao_cliente = df_dados.groupby('Type of Customer')['Method of Payment'].value_counts()\n",
    "pd.DataFrame(tipo_cartao_cliente)"
   ]
  },
  {
   "cell_type": "code",
   "execution_count": null,
   "metadata": {},
   "outputs": [],
   "source": []
  }
 ],
 "metadata": {
  "kernelspec": {
   "display_name": "venvEstatisticaFiap",
   "language": "python",
   "name": "python3"
  },
  "language_info": {
   "codemirror_mode": {
    "name": "ipython",
    "version": 3
   },
   "file_extension": ".py",
   "mimetype": "text/x-python",
   "name": "python",
   "nbconvert_exporter": "python",
   "pygments_lexer": "ipython3",
   "version": "3.11.1"
  },
  "orig_nbformat": 4
 },
 "nbformat": 4,
 "nbformat_minor": 2
}
